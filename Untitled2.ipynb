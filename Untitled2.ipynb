{
 "cells": [
  {
   "cell_type": "code",
   "execution_count": null,
   "id": "aed34e3d",
   "metadata": {},
   "outputs": [],
   "source": [
    "import pandas as pd\n",
    "import numpy as np\n",
    "import pickle\n",
    "from sklearn.model_selection import train_test_split \n",
    "from sklearn.metrics.pairwise import pairwise_distances\n",
    "from sklearn.preprocessing import MinMaxScaler\n",
    "import matplotlib.pyplot as plt\n",
    "from IPython.display import display"
   ]
  },
  {
   "cell_type": "code",
   "execution_count": null,
   "id": "340b27d8",
   "metadata": {},
   "outputs": [],
   "source": [
    "\n",
    "# Reading ratings file\n",
    "ratings = pd.read_csv('https://raw.githubusercontent.com/pphoebelu/input/product_ratings_final.csv',\\encoding='latin-1')\n",
    "# ratings.reset_index(drop=True, inplace=True)\n",
    "display(ratings.sample(n=5, random_state=42))"
   ]
  },
  {
   "cell_type": "code",
   "execution_count": null,
   "id": "1b788a93",
   "metadata": {},
   "outputs": [],
   "source": [
    "# prepare the data\n",
    "\n",
    "def apply_pivot(df,fillby = None):\n",
    "    if fillby is not None:\n",
    "        return df.pivot_table(index='userId', columns='prod_name',values='rating').fillna(fillby)\n",
    "    return df.pivot_table(index='userId', columns='prod_name',values='rating')"
   ]
  },
  {
   "cell_type": "code",
   "execution_count": null,
   "id": "2c681a95",
   "metadata": {},
   "outputs": [],
   "source": [
    "\n",
    "#Dividing the dataset into train and test\n",
    "\n",
    "\n",
    "\n",
    "train, test = train_test_split(ratings, test_size=0.30, random_state=42)\n",
    "test = test[test.userId.isin(train.userId)]\n",
    "\n",
    "#Apply pivot operation and fillna used to replace NaN values with 0 i.e. where user didn't made any rating\n",
    "\n",
    "df_train_pivot = apply_pivot(df = train, fillby = 0)\n",
    "df_test_pivot = apply_pivot(df = test, fillby = 0)\n",
    "\n",
    "# dataset (train and test)\n",
    "\n",
    "# Train\n",
    "dummy_train = train.copy()\n",
    "dummy_train['rating'] = dummy_train['rating'].apply(lambda x: 0 if x>=1 else 1)\n",
    "dummy_train = apply_pivot(df = dummy_train, fillby = 1)\n",
    "\n",
    "# Test\n",
    "dummy_test = test.copy()\n",
    "dummy_test['rating'] = dummy_test['rating'].apply(lambda x: 1 if x>=1 else 0)\n",
    "dummy_test = apply_pivot(df = dummy_test, fillby = 0)"
   ]
  },
  {
   "cell_type": "code",
   "execution_count": null,
   "id": "fb2c60f7",
   "metadata": {},
   "outputs": [],
   "source": [
    "# to calculate mean, use only ratings given by user instead of fillna by 0 as it increase denominator in mean\n",
    "\n",
    "mean = np.nanmean(apply_pivot(df = train), axis = 1)\n",
    "df_train_subtracted = (apply_pivot(df = train).T-mean).T\n",
    "\n",
    "# Make rating=0 where user hasn't given any rating\n",
    "\n",
    "df_train_subtracted.fillna(0, inplace = True)\n",
    "\n",
    "# Creating the User Similarity Matrix using pairwise_distance function\n",
    "user_correlation = 1 - pairwise_distances(df_train_subtracted, metric='cosine')\n",
    "\n",
    "user_correlation[np.isnan(user_correlation)] = 0\n",
    "\n",
    "# user_correlation[user_correlation<0] = 0\n",
    "# Convert the user_correlation matrix into dataframe\n",
    "\n",
    "user_correlation_df = pd.DataFrame(user_correlation)\n",
    "user_correlation_df['userId'] = df_train_subtracted.index\n",
    "user_correlation_df.set_index('userId',inplace=True)\n",
    "user_correlation_df.columns = df_train_subtracted.index.tolist()"
   ]
  },
  {
   "cell_type": "code",
   "execution_count": null,
   "id": "d934a75b",
   "metadata": {},
   "outputs": [],
   "source": [
    "#Find Top N recommendation for User (User-User) \n",
    "\n",
    "\n",
    "\n",
    "\n",
    "def find_top_recommendations(pred_rating_df, userid, topn):\n",
    "    recommendation = pred_rating_df.loc[userid].sort_values(ascending=False)[0:topn]\n",
    "    recommendation = pd.DataFrame(recommendation).reset_index().rename(columns={userid:'predicted_ratings'})\n",
    "    return recommendation\n",
    "\n",
    "user_input = str(input(\"Enter your user id\"))\n",
    "recommendation_user_user = find_top_recommendations(user_final_rating, user_input, 5)\n",
    "recommendation_user_user['userId'] = user_input\n",
    "print(\"Earlier rated products by user id:{} as below\".format(user_input))\n",
    "display(train[train['userId']==user_input].sort_values(['rating'],ascending=False))\n",
    "print(\"Earlier rated products by user id:{} as below\".format(user_input))\n",
    "display(train[train['userId']==user_input].sort_values(['rating'],ascending=False))\n",
    "\n"
   ]
  },
  {
   "cell_type": "code",
   "execution_count": null,
   "id": "4b1fca42",
   "metadata": {},
   "outputs": [],
   "source": [
    "\n",
    "#Filter user correlation only for user which is in test, test is subset/equal of train in terms of userId\n",
    "\n",
    "\n",
    "user_correlation_test_df = user_correlation_df[user_correlation_df.index.isin(test.userId)]\n",
    "user_correlation_test_df = user_correlation_test_df[list(set(test.userId))]\n",
    "\n",
    "# user_correlation_test_df[user_correlation_test_df<0]=0\n",
    "#Get test user predicted rating\n",
    "\n",
    "test_user_predicted_ratings = np.dot(user_correlation_test_df, df_test_pivot)\n",
    "test_user_predicted_ratings = np.multiply(test_user_predicted_ratings,dummy_test)\n",
    "\n",
    "#Get NaN where user never rated as it shouldn't contribute in calculating RMSE\n",
    "\n",
    "test_user_predicted_ratings = test_user_predicted_ratings[test_user_predicted_ratings>0]\n",
    "scaler = MinMaxScaler(feature_range=(1, 5))\n",
    "scaler.fit(test_user_predicted_ratings)\n",
    "test_user_predicted_ratings = scaler.transform(test_user_predicted_ratings)\n",
    "total_non_nan = np.count_nonzero(~np.isnan(test_user_predicted_ratings))\n",
    "rmse = (np.sum(np.sum((apply_pivot(df = test) - test_user_predicted_ratings)**2))/total_non_nan)**0.5\n",
    "\n",
    "\n",
    "print(rmse)\n",
    "\n"
   ]
  },
  {
   "cell_type": "code",
   "execution_count": null,
   "id": "f38c64a1",
   "metadata": {},
   "outputs": [],
   "source": [
    "#Save Mode\n",
    "pickle.dump(user_final_rating,open('./model/user_final_rating.pkl','wb'))"
   ]
  }
 ],
 "metadata": {
  "kernelspec": {
   "display_name": "Python 3 (ipykernel)",
   "language": "python",
   "name": "python3"
  },
  "language_info": {
   "codemirror_mode": {
    "name": "ipython",
    "version": 3
   },
   "file_extension": ".py",
   "mimetype": "text/x-python",
   "name": "python",
   "nbconvert_exporter": "python",
   "pygments_lexer": "ipython3",
   "version": "3.9.13"
  }
 },
 "nbformat": 4,
 "nbformat_minor": 5
}
