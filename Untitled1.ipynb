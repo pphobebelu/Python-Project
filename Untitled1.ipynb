{
 "cells": [
  {
   "cell_type": "code",
   "execution_count": null,
   "id": "8996c7a8",
   "metadata": {},
   "outputs": [],
   "source": [
    "import libraries\n",
    "\n",
    "import pandas as pd\n",
    "\n",
    "import bumpy as np\n",
    "\n",
    "import seaboard as sns\n",
    "\n",
    "import matplotlib\n",
    "\n",
    "import matplotlib.pyplot as plt\n",
    "\n",
    "\n",
    "\n",
    "plt.style.use('ggplot')\n",
    "\n",
    "from matplotlib.pyplot import figure\n",
    "\n",
    "\n",
    "\n",
    "%matplotlib inline\n",
    "\n",
    "matplotlib.rcparams [ 'figure.figsize'] = (12,8) # adjusts the configuration of the plots we will create\n"
   ]
  },
  {
   "cell_type": "code",
   "execution_count": null,
   "id": "28c66b98",
   "metadata": {},
   "outputs": [],
   "source": [
    "# read in the data\n",
    "\n",
    "df = pd.read_cvs(r'C:\\users\\phoebelu\\downloads\\movies.c')\n",
    "\n",
    "# look at the data\n",
    "\n",
    "\n",
    "df.head()\n",
    "\n"
   ]
  },
  {
   "cell_type": "code",
   "execution_count": null,
   "id": "53d57bef",
   "metadata": {},
   "outputs": [],
   "source": [
    "# find if there is any missing data\n",
    "\n",
    "\n",
    "\n",
    "for col in df.columns:\n",
    "\n",
    "     pct_missing = np.mean(df[col].is null())\n",
    "\n",
    "    print('{} - {}%'.format(col, pct_missing))"
   ]
  },
  {
   "cell_type": "code",
   "execution_count": null,
   "id": "e07c0100",
   "metadata": {},
   "outputs": [],
   "source": [
    "# data types for columns\n",
    "\n",
    "df.dtypes\n",
    "\n",
    "# change data types of columns\n",
    "\n",
    "df['gross'] = df['gross'.astype('int64')\n",
    "\n",
    "df['budget'] = df['budget']. astype('int64')\n",
    "\n",
    "df['yearcorrect'] = df['released'].astype(str).str[:4]\n",
    "\n",
    "df.sort_values(by=['gross', inplace = false,ascending = false)\n",
    "\n",
    "pd.set_options('display.max_rows', None)\n",
    "                   "
   ]
  },
  {
   "cell_type": "code",
   "execution_count": null,
   "id": "3d355c8a",
   "metadata": {},
   "outputs": [],
   "source": [
    "# drop duplicates\n",
    "\n",
    "\n",
    "\n",
    "df['company'].drop_duplicates().sort_values(ascending = false)\n",
    "\n",
    "\n",
    "\n",
    "#budget high correlation\n",
    "\n",
    "# company high correlation\n",
    "\n",
    "# scatter plot with budget vs gross\n",
    "\n",
    "plt.scatter(x=df['budget'],y=df['gross'])\n",
    "\n",
    "plt.title('budget vs gross earnings')\n",
    "\n",
    "plt.xlabel('gross earnings')\n",
    "\n",
    "plt.ylabel('budget for film')\n",
    "\n",
    "plt.show()"
   ]
  },
  {
   "cell_type": "code",
   "execution_count": null,
   "id": "52046970",
   "metadata": {},
   "outputs": [],
   "source": [
    "# plot budget vs gross using seaboard\n",
    "\n",
    "sns.regplot(x='budget', y = 'gross', data =df, scatter_ows={\"color\":\"red\"},line_kws= {\"color\":\"blue\"} )\n",
    "\n",
    "\n",
    "correlation_matrix = df.corr(method='pearson')\n",
    "\n",
    "sns.heatmap(correlation_matrixm, annot = true)\n",
    "\n",
    "plt.title('correlation matrix for numeric features')\n",
    "\n",
    "plt.xlabel('movie feature')\n",
    "\n",
    "plt.ylabel('movie feature')\n",
    "\n",
    "plt.show()\n",
    "\n"
   ]
  },
  {
   "cell_type": "code",
   "execution_count": null,
   "id": "f7e0d6a6",
   "metadata": {},
   "outputs": [],
   "source": [
    "# looks at company\n",
    "\n",
    "\n",
    "\n",
    "df_numerized = df\n",
    "\n",
    "for col_name in df_numerized.columns:\n",
    "\n",
    "     if(df_numerized[col_name].dtype == 'object'):\n",
    "            df_numerized[col_name]= df_numerized[col_name].astype('category')\n",
    "            df_numerized[col_name]= df_numerized[col_name].cat.codes\n",
    "\n",
    "dfnumerized\n"
   ]
  },
  {
   "cell_type": "code",
   "execution_count": null,
   "id": "b79841e6",
   "metadata": {},
   "outputs": [],
   "source": [
    "correlation_mat = dfnumerized.corr()\n",
    "\n",
    "corr_pairs = correlation_mat.unstack()\n",
    "\n",
    "corr_pairs\n",
    "\n",
    "high_corr = sorted_pairs[(sorted_pairs)>0.5]\n",
    "\n",
    "high_corr"
   ]
  }
 ],
 "metadata": {
  "kernelspec": {
   "display_name": "Python 3 (ipykernel)",
   "language": "python",
   "name": "python3"
  },
  "language_info": {
   "codemirror_mode": {
    "name": "ipython",
    "version": 3
   },
   "file_extension": ".py",
   "mimetype": "text/x-python",
   "name": "python",
   "nbconvert_exporter": "python",
   "pygments_lexer": "ipython3",
   "version": "3.9.13"
  }
 },
 "nbformat": 4,
 "nbformat_minor": 5
}
